{
 "cells": [
  {
   "cell_type": "code",
   "execution_count": null,
   "metadata": {},
   "outputs": [],
   "source": [
    "%load_ext autoreload\n",
    "%autoreload 2\n",
    "import urllib3\n",
    "urllib3.disable_warnings(urllib3.exceptions.InsecureRequestWarning)"
   ]
  },
  {
   "cell_type": "code",
   "execution_count": null,
   "metadata": {},
   "outputs": [],
   "source": [
    "import os\n",
    "import sys\n",
    "import json\n",
    "import random\n",
    "module_path = os.path.abspath(os.path.join('../src')) # or the path to your source code\n",
    "sys.path.insert(0, module_path)\n",
    "import pandas\n",
    "from query import query_cdp_data as query\n",
    "from enrich import enrich_cdp_data as enrich\n",
    "from ingest_bulk import ingest_cdp_data_bulk as ingest_bulk\n",
    "from ingest_stream import ingest_cdp_data_stream as ingest_stream"
   ]
  },
  {
   "cell_type": "code",
   "execution_count": null,
   "metadata": {},
   "outputs": [],
   "source": [
    "# update following\n",
    "event = {}\n",
    "event['login_url'] = 'https://login.salesforce.com' \n",
    "event['user_name'] = '' #CDP org's username\n",
    "event['password'] = '' #CDP org's password\n",
    "event['client_id'] = '' #CDP org's connected app client id\n",
    "event['client_secret'] = '' #CDP org's connected app client secret\n",
    "event['dlo_name'] = 'athlete_profiles' #CDP org's DLO name\n",
    "event['dlo_source_name'] = 'athlete_api' #CDP org's Ingestion API source name \n",
    "event['dlo_object'] = 'athlete_api_athlete_profiles_E6B17A31__dll' #DLO object name to be queried\n",
    "event['dlo_filter'] = 'limit 100000' #Where clause for the query\n",
    "event['bulk_operation_type'] = 'upsert' #Where clause for the query"
   ]
  },
  {
   "cell_type": "code",
   "execution_count": null,
   "metadata": {},
   "outputs": [],
   "source": [
    "#First load test data using streaming API\n",
    "state = [\"NY\", \"TX\", \"CT\", \"CA\"]\n",
    "athletes = []\n",
    "athletes_insert_count = 5\n",
    "for c in range(1, athletes_insert_count):\n",
    "    i = random.randrange(100, 10000, 3)\n",
    "    fname = f\"fname-{i}\"\n",
    "    lname = f\"lname-{i}\"\n",
    "    email = f\"test-{i}@demp.cdp\"\n",
    "    \n",
    "    a = {\n",
    "    \"maid\":1010,\n",
    "    \"first_name\":fname,\n",
    "    \"last_name\":lname,\n",
    "    \"email\":email,\n",
    "    \"gender\":\"Male\",\n",
    "    \"city\":\"austin\",\n",
    "    \"state\":random.choice(state),\n",
    "    \"created\":\"2021-10-07T09:11:11.816319Z\"\n",
    "    }\n",
    "    athletes.append(a)\n",
    "\n",
    "ingest_stream(event, athletes)"
   ]
  },
  {
   "cell_type": "code",
   "execution_count": null,
   "metadata": {},
   "outputs": [],
   "source": [
    "# Query DLO. # It can take 10 to 30 minutes for data to show up. Make sure to wait before you proceed to next step\n",
    "df = query(event)\n",
    "print(len(df))\n",
    "df.head()"
   ]
  },
  {
   "cell_type": "code",
   "execution_count": null,
   "metadata": {},
   "outputs": [],
   "source": [
    "# Enrich DLO\n",
    "df = enrich(df)"
   ]
  },
  {
   "cell_type": "code",
   "execution_count": null,
   "metadata": {},
   "outputs": [],
   "source": [
    "# Visualize enriched data\n",
    "from matplotlib import pyplot as plt\n",
    "plt.plot(df[\"state__c\"], df[\"score\"])\n",
    "plt.show()"
   ]
  },
  {
   "cell_type": "code",
   "execution_count": null,
   "metadata": {},
   "outputs": [],
   "source": [
    "# Bulk update Enriched DLO\n",
    "ingest_bulk(event,df)"
   ]
  },
  {
   "cell_type": "code",
   "execution_count": null,
   "metadata": {},
   "outputs": [],
   "source": [
    "df.head()"
   ]
  },
  {
   "cell_type": "code",
   "execution_count": null,
   "metadata": {},
   "outputs": [],
   "source": []
  }
 ],
 "metadata": {
  "kernelspec": {
   "display_name": "Python 3",
   "language": "python",
   "name": "python3"
  },
  "language_info": {
   "codemirror_mode": {
    "name": "ipython",
    "version": 3
   },
   "file_extension": ".py",
   "mimetype": "text/x-python",
   "name": "python",
   "nbconvert_exporter": "python",
   "pygments_lexer": "ipython3",
   "version": "3.7.4"
  },
  "vscode": {
   "interpreter": {
    "hash": "397704579725e15f5c7cb49fe5f0341eb7531c82d19f2c29d197e8b64ab5776b"
   }
  }
 },
 "nbformat": 4,
 "nbformat_minor": 4
}
