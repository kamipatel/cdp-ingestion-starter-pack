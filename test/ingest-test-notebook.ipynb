{
 "cells": [
  {
   "cell_type": "code",
   "execution_count": null,
   "metadata": {},
   "outputs": [],
   "source": [
    "%load_ext autoreload\n",
    "%autoreload 2"
   ]
  },
  {
   "cell_type": "code",
   "execution_count": null,
   "metadata": {},
   "outputs": [],
   "source": [
    "import os\n",
    "import sys\n",
    "module_path = os.path.abspath(os.path.join('../src')) # or the path to your source code\n",
    "sys.path.insert(0, module_path)\n",
    "import pandas\n",
    "from query import query_cdp_data as query\n",
    "from enrich import enrich_cdp_data as enrich\n",
    "from ingest_bulk import ingest_cdp_data_bulk as ingest_bulk"
   ]
  },
  {
   "cell_type": "code",
   "execution_count": null,
   "metadata": {},
   "outputs": [],
   "source": [
    "event = {}\n",
    "event['login_url'] = 'https://login.salesforce.com' \n",
    "event['user_name'] = '' # CDP org username\n",
    "event['password'] = '' # CDP org password\n",
    "event['client_id'] = '' # CDP connected app client id\n",
    "event['client_secret'] = '' # CDP connected app client secret\n",
    "event['dlo_name'] = 'athlete_profiles' #CDP org's DLO name\n",
    "event['dlo_source_name'] = 'athlete_api' #CDP org's Ingestion API source name \n",
    "event['dlo_object'] = 'athlete_api_athlete_profiles_E6B17A31__dll' #DLO object name to be queried\n",
    "event['dlo_filter'] = 'limit 100' #Where clause for the query\n",
    "event['bulk_operation_type'] = 'upsert' #Where clause for the query"
   ]
  },
  {
   "cell_type": "code",
   "execution_count": null,
   "metadata": {},
   "outputs": [],
   "source": [
    "# Query DLO\n",
    "df = query(event)\n",
    "print(len(df))\n",
    "df.head()"
   ]
  },
  {
   "cell_type": "code",
   "execution_count": null,
   "metadata": {},
   "outputs": [],
   "source": [
    "# Enrich DLO\n",
    "df = enrich(df)"
   ]
  },
  {
   "cell_type": "code",
   "execution_count": null,
   "metadata": {},
   "outputs": [],
   "source": [
    "# Bulk update Enriched DLO\n",
    "ingest_bulk(event,df)"
   ]
  },
  {
   "cell_type": "code",
   "execution_count": null,
   "metadata": {
    "jupyter": {
     "source_hidden": true
    }
   },
   "outputs": [],
   "source": []
  }
 ],
 "metadata": {
  "kernelspec": {
   "display_name": "Python 3",
   "language": "python",
   "name": "python3"
  },
  "language_info": {
   "codemirror_mode": {
    "name": "ipython",
    "version": 3
   },
   "file_extension": ".py",
   "mimetype": "text/x-python",
   "name": "python",
   "nbconvert_exporter": "python",
   "pygments_lexer": "ipython3",
   "version": "3.7.4"
  },
  "vscode": {
   "interpreter": {
    "hash": "397704579725e15f5c7cb49fe5f0341eb7531c82d19f2c29d197e8b64ab5776b"
   }
  }
 },
 "nbformat": 4,
 "nbformat_minor": 4
}
