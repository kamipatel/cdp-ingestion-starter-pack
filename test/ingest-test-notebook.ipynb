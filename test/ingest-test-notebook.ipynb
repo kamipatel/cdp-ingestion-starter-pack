{
 "cells": [
  {
   "cell_type": "code",
   "execution_count": 3,
   "metadata": {},
   "outputs": [],
   "source": [
    "%load_ext autoreload\n",
    "%autoreload 2"
   ]
  },
  {
   "cell_type": "code",
   "execution_count": 4,
   "metadata": {},
   "outputs": [],
   "source": [
    "import os\n",
    "import sys\n",
    "module_path = os.path.abspath(os.path.join('../src')) # or the path to your source code\n",
    "sys.path.insert(0, module_path)\n",
    "import pandas\n",
    "from query import query_cdp_data as query\n",
    "from enrich import enrich_cdp_data as enrich\n",
    "from ingest_bulk import ingest_cdp_data_bulk as ingest_bulk"
   ]
  },
  {
   "cell_type": "code",
   "execution_count": 5,
   "metadata": {},
   "outputs": [],
   "source": [
    "# update following\n",
    "event = {}\n",
    "event['login_url'] = 'https://login.salesforce.com' \n",
    "event['user_name'] = ''\n",
    "event['password'] = ''\n",
    "event['client_id'] = ''\n",
    "event['client_secret'] = ''\n",
    "event['dlo_name'] = 'athlete_profiles' #CDP org's DLO name\n",
    "event['dlo_source_name'] = 'athlete_api' #CDP org's Ingestion API source name \n",
    "event['dlo_object'] = 'athlete_api_athlete_profiles_E6B17A31__dll' #DLO object name to be queried\n",
    "event['dlo_filter'] = 'limit 100' #Where clause for the query\n",
    "event['bulk_operation_type'] = 'upsert' #Where clause for the query"
   ]
  },
  {
   "cell_type": "code",
   "execution_count": 7,
   "metadata": {},
   "outputs": [],
   "source": [
    "#First load test data\n",
    "\n",
    "#Upload data using bulk api\n",
    "# ingest_bulk(event,df)"
   ]
  },
  {
   "cell_type": "code",
   "execution_count": 15,
   "metadata": {},
   "outputs": [
    {
     "name": "stdout",
     "output_type": "stream",
     "text": [
      "*** query_cdp_data start\n",
      "got CDP connection\n",
      "Query results took 0:00:02.075595 time, for total records 100\n",
      "*** query_cdp_data end\n",
      "100\n"
     ]
    },
    {
     "data": {
      "text/html": [
       "<div>\n",
       "<style scoped>\n",
       "    .dataframe tbody tr th:only-of-type {\n",
       "        vertical-align: middle;\n",
       "    }\n",
       "\n",
       "    .dataframe tbody tr th {\n",
       "        vertical-align: top;\n",
       "    }\n",
       "\n",
       "    .dataframe thead th {\n",
       "        text-align: right;\n",
       "    }\n",
       "</style>\n",
       "<table border=\"1\" class=\"dataframe\">\n",
       "  <thead>\n",
       "    <tr style=\"text-align: right;\">\n",
       "      <th></th>\n",
       "      <th>email__c</th>\n",
       "      <th>first_name__c</th>\n",
       "      <th>datasource__c</th>\n",
       "      <th>city__c</th>\n",
       "      <th>datasourceobject__c</th>\n",
       "      <th>maid__c</th>\n",
       "      <th>state__c</th>\n",
       "      <th>gender__c</th>\n",
       "      <th>created__c</th>\n",
       "      <th>score__c</th>\n",
       "      <th>last_name__c</th>\n",
       "      <th>date_id</th>\n",
       "    </tr>\n",
       "  </thead>\n",
       "  <tbody>\n",
       "    <tr>\n",
       "      <th>0</th>\n",
       "      <td>customer-648322@test.cdpdata</td>\n",
       "      <td>fname-648322</td>\n",
       "      <td>athlete_api_846862a0_bc08_4018_a28b_910b7338dbf2</td>\n",
       "      <td>austin</td>\n",
       "      <td>athlete_api_athlete_profiles_E6B17A31</td>\n",
       "      <td>648322.000000000000000000</td>\n",
       "      <td>TX</td>\n",
       "      <td>Male</td>\n",
       "      <td>None</td>\n",
       "      <td>None</td>\n",
       "      <td>lname-648322</td>\n",
       "      <td>2022-10-18 18:20:54.472 UTC</td>\n",
       "    </tr>\n",
       "    <tr>\n",
       "      <th>1</th>\n",
       "      <td>customer-648330@test.cdpdata</td>\n",
       "      <td>fname-648330</td>\n",
       "      <td>athlete_api_846862a0_bc08_4018_a28b_910b7338dbf2</td>\n",
       "      <td>austin</td>\n",
       "      <td>athlete_api_athlete_profiles_E6B17A31</td>\n",
       "      <td>648330.000000000000000000</td>\n",
       "      <td>TX</td>\n",
       "      <td>Male</td>\n",
       "      <td>None</td>\n",
       "      <td>None</td>\n",
       "      <td>lname-648330</td>\n",
       "      <td>2022-10-18 18:20:54.472 UTC</td>\n",
       "    </tr>\n",
       "    <tr>\n",
       "      <th>2</th>\n",
       "      <td>customer-648331@test.cdpdata</td>\n",
       "      <td>fname-648331</td>\n",
       "      <td>athlete_api_846862a0_bc08_4018_a28b_910b7338dbf2</td>\n",
       "      <td>austin</td>\n",
       "      <td>athlete_api_athlete_profiles_E6B17A31</td>\n",
       "      <td>648331.000000000000000000</td>\n",
       "      <td>TX</td>\n",
       "      <td>Male</td>\n",
       "      <td>None</td>\n",
       "      <td>None</td>\n",
       "      <td>lname-648331</td>\n",
       "      <td>2022-10-18 18:20:54.472 UTC</td>\n",
       "    </tr>\n",
       "    <tr>\n",
       "      <th>3</th>\n",
       "      <td>customer-648358@test.cdpdata</td>\n",
       "      <td>fname-648358</td>\n",
       "      <td>athlete_api_846862a0_bc08_4018_a28b_910b7338dbf2</td>\n",
       "      <td>austin</td>\n",
       "      <td>athlete_api_athlete_profiles_E6B17A31</td>\n",
       "      <td>648358.000000000000000000</td>\n",
       "      <td>TX</td>\n",
       "      <td>Male</td>\n",
       "      <td>None</td>\n",
       "      <td>None</td>\n",
       "      <td>lname-648358</td>\n",
       "      <td>2022-10-18 18:20:54.472 UTC</td>\n",
       "    </tr>\n",
       "    <tr>\n",
       "      <th>4</th>\n",
       "      <td>customer-648363@test.cdpdata</td>\n",
       "      <td>fname-648363</td>\n",
       "      <td>athlete_api_846862a0_bc08_4018_a28b_910b7338dbf2</td>\n",
       "      <td>austin</td>\n",
       "      <td>athlete_api_athlete_profiles_E6B17A31</td>\n",
       "      <td>648363.000000000000000000</td>\n",
       "      <td>TX</td>\n",
       "      <td>Male</td>\n",
       "      <td>None</td>\n",
       "      <td>None</td>\n",
       "      <td>lname-648363</td>\n",
       "      <td>2022-10-18 18:20:54.472 UTC</td>\n",
       "    </tr>\n",
       "  </tbody>\n",
       "</table>\n",
       "</div>"
      ],
      "text/plain": [
       "                       email__c first_name__c  \\\n",
       "0  customer-648322@test.cdpdata  fname-648322   \n",
       "1  customer-648330@test.cdpdata  fname-648330   \n",
       "2  customer-648331@test.cdpdata  fname-648331   \n",
       "3  customer-648358@test.cdpdata  fname-648358   \n",
       "4  customer-648363@test.cdpdata  fname-648363   \n",
       "\n",
       "                                      datasource__c city__c  \\\n",
       "0  athlete_api_846862a0_bc08_4018_a28b_910b7338dbf2  austin   \n",
       "1  athlete_api_846862a0_bc08_4018_a28b_910b7338dbf2  austin   \n",
       "2  athlete_api_846862a0_bc08_4018_a28b_910b7338dbf2  austin   \n",
       "3  athlete_api_846862a0_bc08_4018_a28b_910b7338dbf2  austin   \n",
       "4  athlete_api_846862a0_bc08_4018_a28b_910b7338dbf2  austin   \n",
       "\n",
       "                     datasourceobject__c                    maid__c state__c  \\\n",
       "0  athlete_api_athlete_profiles_E6B17A31  648322.000000000000000000       TX   \n",
       "1  athlete_api_athlete_profiles_E6B17A31  648330.000000000000000000       TX   \n",
       "2  athlete_api_athlete_profiles_E6B17A31  648331.000000000000000000       TX   \n",
       "3  athlete_api_athlete_profiles_E6B17A31  648358.000000000000000000       TX   \n",
       "4  athlete_api_athlete_profiles_E6B17A31  648363.000000000000000000       TX   \n",
       "\n",
       "  gender__c created__c score__c  last_name__c                      date_id  \n",
       "0      Male       None     None  lname-648322  2022-10-18 18:20:54.472 UTC  \n",
       "1      Male       None     None  lname-648330  2022-10-18 18:20:54.472 UTC  \n",
       "2      Male       None     None  lname-648331  2022-10-18 18:20:54.472 UTC  \n",
       "3      Male       None     None  lname-648358  2022-10-18 18:20:54.472 UTC  \n",
       "4      Male       None     None  lname-648363  2022-10-18 18:20:54.472 UTC  "
      ]
     },
     "execution_count": 15,
     "metadata": {},
     "output_type": "execute_result"
    }
   ],
   "source": [
    "# Query DLO. # It can take 10 to 30 minutes for data to show up. Make sure to wait before you proceed to next step\n",
    "df = query(event)\n",
    "print(len(df))\n",
    "df.head()"
   ]
  },
  {
   "cell_type": "code",
   "execution_count": 16,
   "metadata": {},
   "outputs": [
    {
     "name": "stdout",
     "output_type": "stream",
     "text": [
      "*** enrich_cdp_data start\n",
      "***Enrich end\n"
     ]
    }
   ],
   "source": [
    "# Enrich DLO\n",
    "df = enrich(df)"
   ]
  },
  {
   "cell_type": "code",
   "execution_count": 20,
   "metadata": {},
   "outputs": [
    {
     "data": {
      "image/png": "[encoded data removed]",
      "text/plain": [
       "<Figure size 432x288 with 1 Axes>"
      ]
     },
     "metadata": {
      "needs_background": "light"
     },
     "output_type": "display_data"
    }
   ],
   "source": [
    "# Visualize enriched data\n",
    "from matplotlib import pyplot as plt\n",
    "plt.plot(df[\"state__c\"], df[\"score\"])\n",
    "plt.show()"
   ]
  },
  {
   "cell_type": "code",
   "execution_count": 10,
   "metadata": {},
   "outputs": [
    {
     "name": "stdout",
     "output_type": "stream",
     "text": [
      "***ingest_cdp_data_bulk start\n",
      "got connection\n",
      "m04tszrqg-yw09jsmmydcyrzg4.c360a.salesforce.com\n",
      "Posting to https://m04tszrqg-yw09jsmmydcyrzg4.c360a.salesforce.com/api/v1/ingest/jobs/\n",
      "posting job to url=https://m04tszrqg-yw09jsmmydcyrzg4.c360a.salesforce.com/api/v1/ingest/jobs\n",
      "Starting bulk job for execution\n",
      "{'object': 'athlete_profiles', 'id': 'b293c4cd-3a99-4e37-8b66-58803340c359', 'operation': 'upsert', 'sourceName': 'athlete_api', 'createdById': '005Dn000000ZimmIAC', 'createdDate': '2022-11-19T20:20:36.488928Z', 'systemModstamp': '', 'state': 'Open', 'contentType': 'CSV', 'apiVersion': 'v1', 'contentUrl': '/api/v1/ingest/jobs/b293c4cd-3a99-4e37-8b66-58803340c359/batches'}\n",
      "initiate job\n",
      "b293c4cd-3a99-4e37-8b66-58803340c359\n",
      "https://m04tszrqg-yw09jsmmydcyrzg4.c360a.salesforce.com/api/v1/ingest/jobs/b293c4cd-3a99-4e37-8b66-58803340c359/batches\n",
      "_post_ingest_bulk_job_upload_data called\n",
      "after binary conversion\n",
      "Got header csv\n",
      "{'accepted': True}\n",
      "added data\n",
      "{'accepted': True}\n",
      "https://m04tszrqg-yw09jsmmydcyrzg4.c360a.salesforce.com/api/v1/ingest/jobs/b293c4cd-3a99-4e37-8b66-58803340c359\n",
      "{'object': 'athlete_profiles', 'id': 'b293c4cd-3a99-4e37-8b66-58803340c359', 'operation': 'upsert', 'sourceName': 'athlete_api', 'createdById': '005Dn000000ZimmIAC', 'createdDate': '2022-11-19T20:20:36.488928Z', 'systemModstamp': '', 'state': 'UploadComplete', 'contentType': 'CSV', 'apiVersion': 'v1'}\n",
      "started data job\n",
      "{'object': 'athlete_profiles', 'id': 'b293c4cd-3a99-4e37-8b66-58803340c359', 'operation': 'upsert', 'sourceName': 'athlete_api', 'createdById': '005Dn000000ZimmIAC', 'createdDate': '2022-11-19T20:20:36.488928Z', 'systemModstamp': '', 'state': 'UploadComplete', 'contentType': 'CSV', 'apiVersion': 'v1'}\n",
      "***ingest_cdp_data_bulk end\n"
     ]
    },
    {
     "data": {
      "text/plain": [
       "{'object': 'athlete_profiles',\n",
       " 'id': 'b293c4cd-3a99-4e37-8b66-58803340c359',\n",
       " 'operation': 'upsert',\n",
       " 'sourceName': 'athlete_api',\n",
       " 'createdById': '005Dn000000ZimmIAC',\n",
       " 'createdDate': '2022-11-19T20:20:36.488928Z',\n",
       " 'systemModstamp': '',\n",
       " 'state': 'UploadComplete',\n",
       " 'contentType': 'CSV',\n",
       " 'apiVersion': 'v1'}"
      ]
     },
     "execution_count": 10,
     "metadata": {},
     "output_type": "execute_result"
    }
   ],
   "source": [
    "# Bulk update Enriched DLO\n",
    "ingest_bulk(event,df)"
   ]
  },
  {
   "cell_type": "code",
   "execution_count": 18,
   "metadata": {},
   "outputs": [
    {
     "data": {
      "text/html": [
       "<div>\n",
       "<style scoped>\n",
       "    .dataframe tbody tr th:only-of-type {\n",
       "        vertical-align: middle;\n",
       "    }\n",
       "\n",
       "    .dataframe tbody tr th {\n",
       "        vertical-align: top;\n",
       "    }\n",
       "\n",
       "    .dataframe thead th {\n",
       "        text-align: right;\n",
       "    }\n",
       "</style>\n",
       "<table border=\"1\" class=\"dataframe\">\n",
       "  <thead>\n",
       "    <tr style=\"text-align: right;\">\n",
       "      <th></th>\n",
       "      <th>email__c</th>\n",
       "      <th>first_name__c</th>\n",
       "      <th>city__c</th>\n",
       "      <th>maid__c</th>\n",
       "      <th>state__c</th>\n",
       "      <th>gender__c</th>\n",
       "      <th>created__c</th>\n",
       "      <th>score__c</th>\n",
       "      <th>last_name__c</th>\n",
       "      <th>date_id</th>\n",
       "      <th>score</th>\n",
       "    </tr>\n",
       "  </thead>\n",
       "  <tbody>\n",
       "    <tr>\n",
       "      <th>0</th>\n",
       "      <td>customer-648322@test.cdpdata</td>\n",
       "      <td>fname-648322</td>\n",
       "      <td>austin</td>\n",
       "      <td>648322.000000000000000000</td>\n",
       "      <td>TX</td>\n",
       "      <td>Male</td>\n",
       "      <td>None</td>\n",
       "      <td>None</td>\n",
       "      <td>lname-648322</td>\n",
       "      <td>2022-10-18 18:20:54.472 UTC</td>\n",
       "      <td>8</td>\n",
       "    </tr>\n",
       "    <tr>\n",
       "      <th>1</th>\n",
       "      <td>customer-648330@test.cdpdata</td>\n",
       "      <td>fname-648330</td>\n",
       "      <td>austin</td>\n",
       "      <td>648330.000000000000000000</td>\n",
       "      <td>TX</td>\n",
       "      <td>Male</td>\n",
       "      <td>None</td>\n",
       "      <td>None</td>\n",
       "      <td>lname-648330</td>\n",
       "      <td>2022-10-18 18:20:54.472 UTC</td>\n",
       "      <td>8</td>\n",
       "    </tr>\n",
       "    <tr>\n",
       "      <th>2</th>\n",
       "      <td>customer-648331@test.cdpdata</td>\n",
       "      <td>fname-648331</td>\n",
       "      <td>austin</td>\n",
       "      <td>648331.000000000000000000</td>\n",
       "      <td>TX</td>\n",
       "      <td>Male</td>\n",
       "      <td>None</td>\n",
       "      <td>None</td>\n",
       "      <td>lname-648331</td>\n",
       "      <td>2022-10-18 18:20:54.472 UTC</td>\n",
       "      <td>8</td>\n",
       "    </tr>\n",
       "    <tr>\n",
       "      <th>3</th>\n",
       "      <td>customer-648358@test.cdpdata</td>\n",
       "      <td>fname-648358</td>\n",
       "      <td>austin</td>\n",
       "      <td>648358.000000000000000000</td>\n",
       "      <td>TX</td>\n",
       "      <td>Male</td>\n",
       "      <td>None</td>\n",
       "      <td>None</td>\n",
       "      <td>lname-648358</td>\n",
       "      <td>2022-10-18 18:20:54.472 UTC</td>\n",
       "      <td>8</td>\n",
       "    </tr>\n",
       "    <tr>\n",
       "      <th>4</th>\n",
       "      <td>customer-648363@test.cdpdata</td>\n",
       "      <td>fname-648363</td>\n",
       "      <td>austin</td>\n",
       "      <td>648363.000000000000000000</td>\n",
       "      <td>TX</td>\n",
       "      <td>Male</td>\n",
       "      <td>None</td>\n",
       "      <td>None</td>\n",
       "      <td>lname-648363</td>\n",
       "      <td>2022-10-18 18:20:54.472 UTC</td>\n",
       "      <td>8</td>\n",
       "    </tr>\n",
       "  </tbody>\n",
       "</table>\n",
       "</div>"
      ],
      "text/plain": [
       "                       email__c first_name__c city__c  \\\n",
       "0  customer-648322@test.cdpdata  fname-648322  austin   \n",
       "1  customer-648330@test.cdpdata  fname-648330  austin   \n",
       "2  customer-648331@test.cdpdata  fname-648331  austin   \n",
       "3  customer-648358@test.cdpdata  fname-648358  austin   \n",
       "4  customer-648363@test.cdpdata  fname-648363  austin   \n",
       "\n",
       "                     maid__c state__c gender__c created__c score__c  \\\n",
       "0  648322.000000000000000000       TX      Male       None     None   \n",
       "1  648330.000000000000000000       TX      Male       None     None   \n",
       "2  648331.000000000000000000       TX      Male       None     None   \n",
       "3  648358.000000000000000000       TX      Male       None     None   \n",
       "4  648363.000000000000000000       TX      Male       None     None   \n",
       "\n",
       "   last_name__c                      date_id  score  \n",
       "0  lname-648322  2022-10-18 18:20:54.472 UTC      8  \n",
       "1  lname-648330  2022-10-18 18:20:54.472 UTC      8  \n",
       "2  lname-648331  2022-10-18 18:20:54.472 UTC      8  \n",
       "3  lname-648358  2022-10-18 18:20:54.472 UTC      8  \n",
       "4  lname-648363  2022-10-18 18:20:54.472 UTC      8  "
      ]
     },
     "execution_count": 18,
     "metadata": {},
     "output_type": "execute_result"
    }
   ],
   "source": [
    "df.head()"
   ]
  },
  {
   "cell_type": "code",
   "execution_count": null,
   "metadata": {},
   "outputs": [],
   "source": []
  }
 ],
 "metadata": {
  "kernelspec": {
   "display_name": "Python 3",
   "language": "python",
   "name": "python3"
  },
  "language_info": {
   "codemirror_mode": {
    "name": "ipython",
    "version": 3
   },
   "file_extension": ".py",
   "mimetype": "text/x-python",
   "name": "python",
   "nbconvert_exporter": "python",
   "pygments_lexer": "ipython3",
   "version": "3.7.4"
  },
  "vscode": {
   "interpreter": {
    "hash": "397704579725e15f5c7cb49fe5f0341eb7531c82d19f2c29d197e8b64ab5776b"
   }
  }
 },
 "nbformat": 4,
 "nbformat_minor": 4
}
