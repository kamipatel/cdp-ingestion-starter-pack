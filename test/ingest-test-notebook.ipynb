{
 "cells": [
  {
   "cell_type": "code",
   "execution_count": 35,
   "metadata": {},
   "outputs": [
    {
     "name": "stdout",
     "output_type": "stream",
     "text": [
      "The autoreload extension is already loaded. To reload it, use:\n",
      "  %reload_ext autoreload\n"
     ]
    }
   ],
   "source": [
    "%load_ext autoreload\n",
    "%autoreload 2\n",
    "import urllib3\n",
    "urllib3.disable_warnings(urllib3.exceptions.InsecureRequestWarning)"
   ]
  },
  {
   "cell_type": "code",
   "execution_count": 29,
   "metadata": {},
   "outputs": [],
   "source": [
    "import os\n",
    "import sys\n",
    "import json\n",
    "import random\n",
    "module_path = os.path.abspath(os.path.join('../src')) # or the path to your source code\n",
    "sys.path.insert(0, module_path)\n",
    "import pandas\n",
    "from query import query_cdp_data as query\n",
    "from enrich import enrich_cdp_data as enrich\n",
    "from ingest_bulk import ingest_cdp_data_bulk as ingest_bulk\n",
    "from ingest_stream import ingest_cdp_data_stream as ingest_stream"
   ]
  },
  {
   "cell_type": "code",
   "execution_count": 30,
   "metadata": {},
   "outputs": [],
   "source": [
    "# update following\n",
    "event = {}\n",
    "event['login_url'] = 'https://login.salesforce.com' \n",
    "event['user_name'] = '' #CDP org's username\n",
    "event['password'] = '' #CDP org's password\n",
    "event['client_id'] = '' #CDP org's connected app client id\n",
    "event['client_secret'] = '' #CDP org's connected app client secret\n",
    "event['dlo_name'] = 'athlete_profiles' #CDP org's DLO name\n",
    "event['dlo_source_name'] = 'athlete_api' #CDP org's Ingestion API source name \n",
    "event['dlo_object'] = 'athlete_api_athlete_profiles_E6B17A31__dll' #DLO object name to be queried\n",
    "event['dlo_filter'] = 'limit 100000' #Where clause for the query\n",
    "event['bulk_operation_type'] = 'upsert' #Where clause for the query"
   ]
  },
  {
   "cell_type": "code",
   "execution_count": 36,
   "metadata": {},
   "outputs": [
    {
     "name": "stdout",
     "output_type": "stream",
     "text": [
      "***ingest_cdp_data_stream start\n",
      "got connection\n",
      "url=https://m04tszrqg-yw09jsmmydcyrzg4.c360a.salesforce.com/api/v1/ingest/sources/athlete_api/athlete_profiles\n",
      "Submitting query for execution\n",
      "{'accepted': True}\n",
      "{'accepted': True}\n",
      "ingest_cdp_data_stream complete\n"
     ]
    }
   ],
   "source": [
    "#First load test data using streaming API\n",
    "state = [\"NY\", \"TX\", \"CT\", \"CA\"]\n",
    "athletes = []\n",
    "athletes_insert_count = 5\n",
    "for c in range(1, athletes_insert_count):\n",
    "    i = random.randrange(100, 10000, 3)\n",
    "    fname = f\"fname-{i}\"\n",
    "    lname = f\"lname-{i}\"\n",
    "    email = f\"test-{i}@demp.cdp\"\n",
    "    \n",
    "    a = {\n",
    "    \"maid\":1010,\n",
    "    \"first_name\":fname,\n",
    "    \"last_name\":lname,\n",
    "    \"email\":email,\n",
    "    \"gender\":\"Male\",\n",
    "    \"city\":\"austin\",\n",
    "    \"state\":random.choice(state),\n",
    "    \"created\":\"2021-10-07T09:11:11.816319Z\"\n",
    "    }\n",
    "    athletes.append(a)\n",
    "\n",
    "ingest_stream(event, athletes)"
   ]
  },
  {
   "cell_type": "code",
   "execution_count": 37,
   "metadata": {},
   "outputs": [
    {
     "name": "stdout",
     "output_type": "stream",
     "text": [
      "*** query_cdp_data start\n",
      "got CDP connection\n",
      "Query results took 0:00:03.989997 time, for total records 100000\n",
      "*** query_cdp_data end\n",
      "100000\n"
     ]
    },
    {
     "data": {
      "text/html": [
       "<div>\n",
       "<style scoped>\n",
       "    .dataframe tbody tr th:only-of-type {\n",
       "        vertical-align: middle;\n",
       "    }\n",
       "\n",
       "    .dataframe tbody tr th {\n",
       "        vertical-align: top;\n",
       "    }\n",
       "\n",
       "    .dataframe thead th {\n",
       "        text-align: right;\n",
       "    }\n",
       "</style>\n",
       "<table border=\"1\" class=\"dataframe\">\n",
       "  <thead>\n",
       "    <tr style=\"text-align: right;\">\n",
       "      <th></th>\n",
       "      <th>email__c</th>\n",
       "      <th>first_name__c</th>\n",
       "      <th>datasource__c</th>\n",
       "      <th>city__c</th>\n",
       "      <th>datasourceobject__c</th>\n",
       "      <th>maid__c</th>\n",
       "      <th>state__c</th>\n",
       "      <th>gender__c</th>\n",
       "      <th>created__c</th>\n",
       "      <th>score__c</th>\n",
       "      <th>last_name__c</th>\n",
       "      <th>date_id</th>\n",
       "    </tr>\n",
       "  </thead>\n",
       "  <tbody>\n",
       "    <tr>\n",
       "      <th>0</th>\n",
       "      <td>patl</td>\n",
       "      <td>1010</td>\n",
       "      <td>athlete_api_846862a0_bc08_4018_a28b_910b7338dbf2</td>\n",
       "      <td>male</td>\n",
       "      <td>athlete_api_athlete_profiles_E6B17A31</td>\n",
       "      <td>0E-18</td>\n",
       "      <td>sgn</td>\n",
       "      <td>aaa@coms.cooo</td>\n",
       "      <td>None</td>\n",
       "      <td>None</td>\n",
       "      <td>kamle</td>\n",
       "      <td>2022-10-17 22:22:26.628 UTC</td>\n",
       "    </tr>\n",
       "    <tr>\n",
       "      <th>1</th>\n",
       "      <td>customer-945881@test.cdpdata</td>\n",
       "      <td>fname-945881</td>\n",
       "      <td>athlete_api_846862a0_bc08_4018_a28b_910b7338dbf2</td>\n",
       "      <td>austin</td>\n",
       "      <td>athlete_api_athlete_profiles_E6B17A31</td>\n",
       "      <td>945881.000000000000000000</td>\n",
       "      <td>TX</td>\n",
       "      <td>Male</td>\n",
       "      <td>None</td>\n",
       "      <td>None</td>\n",
       "      <td>lname-945881</td>\n",
       "      <td>2022-10-18 18:20:54.472 UTC</td>\n",
       "    </tr>\n",
       "    <tr>\n",
       "      <th>2</th>\n",
       "      <td>customer-945902@test.cdpdata</td>\n",
       "      <td>fname-945902</td>\n",
       "      <td>athlete_api_846862a0_bc08_4018_a28b_910b7338dbf2</td>\n",
       "      <td>austin</td>\n",
       "      <td>athlete_api_athlete_profiles_E6B17A31</td>\n",
       "      <td>945902.000000000000000000</td>\n",
       "      <td>TX</td>\n",
       "      <td>Male</td>\n",
       "      <td>None</td>\n",
       "      <td>None</td>\n",
       "      <td>lname-945902</td>\n",
       "      <td>2022-10-18 18:20:54.472 UTC</td>\n",
       "    </tr>\n",
       "    <tr>\n",
       "      <th>3</th>\n",
       "      <td>customer-945911@test.cdpdata</td>\n",
       "      <td>fname-945911</td>\n",
       "      <td>athlete_api_846862a0_bc08_4018_a28b_910b7338dbf2</td>\n",
       "      <td>austin</td>\n",
       "      <td>athlete_api_athlete_profiles_E6B17A31</td>\n",
       "      <td>945911.000000000000000000</td>\n",
       "      <td>TX</td>\n",
       "      <td>Male</td>\n",
       "      <td>None</td>\n",
       "      <td>None</td>\n",
       "      <td>lname-945911</td>\n",
       "      <td>2022-10-18 18:20:54.472 UTC</td>\n",
       "    </tr>\n",
       "    <tr>\n",
       "      <th>4</th>\n",
       "      <td>customer-945913@test.cdpdata</td>\n",
       "      <td>fname-945913</td>\n",
       "      <td>athlete_api_846862a0_bc08_4018_a28b_910b7338dbf2</td>\n",
       "      <td>austin</td>\n",
       "      <td>athlete_api_athlete_profiles_E6B17A31</td>\n",
       "      <td>945913.000000000000000000</td>\n",
       "      <td>TX</td>\n",
       "      <td>Male</td>\n",
       "      <td>None</td>\n",
       "      <td>None</td>\n",
       "      <td>lname-945913</td>\n",
       "      <td>2022-10-18 18:20:54.472 UTC</td>\n",
       "    </tr>\n",
       "  </tbody>\n",
       "</table>\n",
       "</div>"
      ],
      "text/plain": [
       "                       email__c first_name__c  \\\n",
       "0                          patl          1010   \n",
       "1  customer-945881@test.cdpdata  fname-945881   \n",
       "2  customer-945902@test.cdpdata  fname-945902   \n",
       "3  customer-945911@test.cdpdata  fname-945911   \n",
       "4  customer-945913@test.cdpdata  fname-945913   \n",
       "\n",
       "                                      datasource__c city__c  \\\n",
       "0  athlete_api_846862a0_bc08_4018_a28b_910b7338dbf2    male   \n",
       "1  athlete_api_846862a0_bc08_4018_a28b_910b7338dbf2  austin   \n",
       "2  athlete_api_846862a0_bc08_4018_a28b_910b7338dbf2  austin   \n",
       "3  athlete_api_846862a0_bc08_4018_a28b_910b7338dbf2  austin   \n",
       "4  athlete_api_846862a0_bc08_4018_a28b_910b7338dbf2  austin   \n",
       "\n",
       "                     datasourceobject__c                    maid__c state__c  \\\n",
       "0  athlete_api_athlete_profiles_E6B17A31                      0E-18      sgn   \n",
       "1  athlete_api_athlete_profiles_E6B17A31  945881.000000000000000000       TX   \n",
       "2  athlete_api_athlete_profiles_E6B17A31  945902.000000000000000000       TX   \n",
       "3  athlete_api_athlete_profiles_E6B17A31  945911.000000000000000000       TX   \n",
       "4  athlete_api_athlete_profiles_E6B17A31  945913.000000000000000000       TX   \n",
       "\n",
       "       gender__c created__c score__c  last_name__c  \\\n",
       "0  aaa@coms.cooo       None     None         kamle   \n",
       "1           Male       None     None  lname-945881   \n",
       "2           Male       None     None  lname-945902   \n",
       "3           Male       None     None  lname-945911   \n",
       "4           Male       None     None  lname-945913   \n",
       "\n",
       "                       date_id  \n",
       "0  2022-10-17 22:22:26.628 UTC  \n",
       "1  2022-10-18 18:20:54.472 UTC  \n",
       "2  2022-10-18 18:20:54.472 UTC  \n",
       "3  2022-10-18 18:20:54.472 UTC  \n",
       "4  2022-10-18 18:20:54.472 UTC  "
      ]
     },
     "execution_count": 37,
     "metadata": {},
     "output_type": "execute_result"
    }
   ],
   "source": [
    "# Query DLO. # It can take 10 to 30 minutes for data to show up. Make sure to wait before you proceed to next step\n",
    "df = query(event)\n",
    "print(len(df))\n",
    "df.head()"
   ]
  },
  {
   "cell_type": "code",
   "execution_count": 39,
   "metadata": {},
   "outputs": [
    {
     "name": "stdout",
     "output_type": "stream",
     "text": [
      "*** enrich_cdp_data start\n",
      "Query exception: \"['datasourceobject__c' 'datasource__c'] not found in axis\"\n"
     ]
    },
    {
     "ename": "KeyError",
     "evalue": "\"['datasourceobject__c' 'datasource__c'] not found in axis\"",
     "output_type": "error",
     "traceback": [
      "\u001b[0;31m---------------------------------------------------------------------------\u001b[0m",
      "\u001b[0;31mKeyError\u001b[0m                                  Traceback (most recent call last)",
      "\u001b[0;32m<ipython-input-39-7bae4be812d2>\u001b[0m in \u001b[0;36m<module>\u001b[0;34m\u001b[0m\n\u001b[1;32m      1\u001b[0m \u001b[0;31m# Enrich DLO\u001b[0m\u001b[0;34m\u001b[0m\u001b[0;34m\u001b[0m\u001b[0;34m\u001b[0m\u001b[0m\n\u001b[0;32m----> 2\u001b[0;31m \u001b[0mdf\u001b[0m \u001b[0;34m=\u001b[0m \u001b[0menrich\u001b[0m\u001b[0;34m(\u001b[0m\u001b[0mdf\u001b[0m\u001b[0;34m)\u001b[0m\u001b[0;34m\u001b[0m\u001b[0;34m\u001b[0m\u001b[0m\n\u001b[0m",
      "\u001b[0;32m~/kam/cdp/cdpisv/cdp_ingestion_starter_pack/src/enrich.py\u001b[0m in \u001b[0;36menrich_cdp_data\u001b[0;34m(df)\u001b[0m\n\u001b[1;32m     24\u001b[0m     \u001b[0;32mexcept\u001b[0m \u001b[0mException\u001b[0m \u001b[0;32mas\u001b[0m \u001b[0me\u001b[0m\u001b[0;34m:\u001b[0m\u001b[0;34m\u001b[0m\u001b[0;34m\u001b[0m\u001b[0m\n\u001b[1;32m     25\u001b[0m         \u001b[0mprint\u001b[0m\u001b[0;34m(\u001b[0m\u001b[0;34m'Query exception: '\u001b[0m\u001b[0;34m+\u001b[0m \u001b[0mstr\u001b[0m\u001b[0;34m(\u001b[0m\u001b[0me\u001b[0m\u001b[0;34m)\u001b[0m\u001b[0;34m)\u001b[0m\u001b[0;34m\u001b[0m\u001b[0;34m\u001b[0m\u001b[0m\n\u001b[0;32m---> 26\u001b[0;31m         \u001b[0;32mraise\u001b[0m \u001b[0me\u001b[0m\u001b[0;34m\u001b[0m\u001b[0;34m\u001b[0m\u001b[0m\n\u001b[0m",
      "\u001b[0;32m~/kam/cdp/cdpisv/cdp_ingestion_starter_pack/src/enrich.py\u001b[0m in \u001b[0;36menrich_cdp_data\u001b[0;34m(df)\u001b[0m\n\u001b[1;32m     17\u001b[0m         \u001b[0mdf\u001b[0m\u001b[0;34m.\u001b[0m\u001b[0mloc\u001b[0m\u001b[0;34m[\u001b[0m\u001b[0mdf\u001b[0m\u001b[0;34m.\u001b[0m\u001b[0mstate__c\u001b[0m \u001b[0;34m==\u001b[0m \u001b[0;34m\"TX\"\u001b[0m\u001b[0;34m,\u001b[0m \u001b[0;34m\"score\"\u001b[0m\u001b[0;34m]\u001b[0m \u001b[0;34m=\u001b[0m \u001b[0;36m8\u001b[0m\u001b[0;34m\u001b[0m\u001b[0;34m\u001b[0m\u001b[0m\n\u001b[1;32m     18\u001b[0m         \u001b[0mdf\u001b[0m\u001b[0;34m.\u001b[0m\u001b[0mloc\u001b[0m\u001b[0;34m[\u001b[0m\u001b[0mdf\u001b[0m\u001b[0;34m.\u001b[0m\u001b[0mstate__c\u001b[0m \u001b[0;34m==\u001b[0m \u001b[0;34m\"hanoi\"\u001b[0m\u001b[0;34m,\u001b[0m \u001b[0;34m\"score\"\u001b[0m\u001b[0;34m]\u001b[0m \u001b[0;34m=\u001b[0m \u001b[0;36m7\u001b[0m\u001b[0;34m\u001b[0m\u001b[0;34m\u001b[0m\u001b[0m\n\u001b[0;32m---> 19\u001b[0;31m         \u001b[0mdf\u001b[0m\u001b[0;34m.\u001b[0m\u001b[0mdrop\u001b[0m\u001b[0;34m(\u001b[0m\u001b[0;34m[\u001b[0m\u001b[0;34m'datasourceobject__c'\u001b[0m\u001b[0;34m,\u001b[0m \u001b[0;34m'datasource__c'\u001b[0m\u001b[0;34m]\u001b[0m\u001b[0;34m,\u001b[0m \u001b[0maxis\u001b[0m\u001b[0;34m=\u001b[0m\u001b[0;36m1\u001b[0m\u001b[0;34m,\u001b[0m \u001b[0minplace\u001b[0m\u001b[0;34m=\u001b[0m\u001b[0;32mTrue\u001b[0m\u001b[0;34m)\u001b[0m\u001b[0;34m\u001b[0m\u001b[0;34m\u001b[0m\u001b[0m\n\u001b[0m\u001b[1;32m     20\u001b[0m \u001b[0;34m\u001b[0m\u001b[0m\n\u001b[1;32m     21\u001b[0m         \u001b[0mprint\u001b[0m\u001b[0;34m(\u001b[0m\u001b[0;34m'***Enrich end'\u001b[0m\u001b[0;34m)\u001b[0m\u001b[0;34m\u001b[0m\u001b[0;34m\u001b[0m\u001b[0m\n",
      "\u001b[0;32m/opt/anaconda3/lib/python3.7/site-packages/pandas/core/frame.py\u001b[0m in \u001b[0;36mdrop\u001b[0;34m(self, labels, axis, index, columns, level, inplace, errors)\u001b[0m\n\u001b[1;32m   3938\u001b[0m                                            \u001b[0mindex\u001b[0m\u001b[0;34m=\u001b[0m\u001b[0mindex\u001b[0m\u001b[0;34m,\u001b[0m \u001b[0mcolumns\u001b[0m\u001b[0;34m=\u001b[0m\u001b[0mcolumns\u001b[0m\u001b[0;34m,\u001b[0m\u001b[0;34m\u001b[0m\u001b[0;34m\u001b[0m\u001b[0m\n\u001b[1;32m   3939\u001b[0m                                            \u001b[0mlevel\u001b[0m\u001b[0;34m=\u001b[0m\u001b[0mlevel\u001b[0m\u001b[0;34m,\u001b[0m \u001b[0minplace\u001b[0m\u001b[0;34m=\u001b[0m\u001b[0minplace\u001b[0m\u001b[0;34m,\u001b[0m\u001b[0;34m\u001b[0m\u001b[0;34m\u001b[0m\u001b[0m\n\u001b[0;32m-> 3940\u001b[0;31m                                            errors=errors)\n\u001b[0m\u001b[1;32m   3941\u001b[0m \u001b[0;34m\u001b[0m\u001b[0m\n\u001b[1;32m   3942\u001b[0m     @rewrite_axis_style_signature('mapper', [('copy', True),\n",
      "\u001b[0;32m/opt/anaconda3/lib/python3.7/site-packages/pandas/core/generic.py\u001b[0m in \u001b[0;36mdrop\u001b[0;34m(self, labels, axis, index, columns, level, inplace, errors)\u001b[0m\n\u001b[1;32m   3778\u001b[0m         \u001b[0;32mfor\u001b[0m \u001b[0maxis\u001b[0m\u001b[0;34m,\u001b[0m \u001b[0mlabels\u001b[0m \u001b[0;32min\u001b[0m \u001b[0maxes\u001b[0m\u001b[0;34m.\u001b[0m\u001b[0mitems\u001b[0m\u001b[0;34m(\u001b[0m\u001b[0;34m)\u001b[0m\u001b[0;34m:\u001b[0m\u001b[0;34m\u001b[0m\u001b[0;34m\u001b[0m\u001b[0m\n\u001b[1;32m   3779\u001b[0m             \u001b[0;32mif\u001b[0m \u001b[0mlabels\u001b[0m \u001b[0;32mis\u001b[0m \u001b[0;32mnot\u001b[0m \u001b[0;32mNone\u001b[0m\u001b[0;34m:\u001b[0m\u001b[0;34m\u001b[0m\u001b[0;34m\u001b[0m\u001b[0m\n\u001b[0;32m-> 3780\u001b[0;31m                 \u001b[0mobj\u001b[0m \u001b[0;34m=\u001b[0m \u001b[0mobj\u001b[0m\u001b[0;34m.\u001b[0m\u001b[0m_drop_axis\u001b[0m\u001b[0;34m(\u001b[0m\u001b[0mlabels\u001b[0m\u001b[0;34m,\u001b[0m \u001b[0maxis\u001b[0m\u001b[0;34m,\u001b[0m \u001b[0mlevel\u001b[0m\u001b[0;34m=\u001b[0m\u001b[0mlevel\u001b[0m\u001b[0;34m,\u001b[0m \u001b[0merrors\u001b[0m\u001b[0;34m=\u001b[0m\u001b[0merrors\u001b[0m\u001b[0;34m)\u001b[0m\u001b[0;34m\u001b[0m\u001b[0;34m\u001b[0m\u001b[0m\n\u001b[0m\u001b[1;32m   3781\u001b[0m \u001b[0;34m\u001b[0m\u001b[0m\n\u001b[1;32m   3782\u001b[0m         \u001b[0;32mif\u001b[0m \u001b[0minplace\u001b[0m\u001b[0;34m:\u001b[0m\u001b[0;34m\u001b[0m\u001b[0;34m\u001b[0m\u001b[0m\n",
      "\u001b[0;32m/opt/anaconda3/lib/python3.7/site-packages/pandas/core/generic.py\u001b[0m in \u001b[0;36m_drop_axis\u001b[0;34m(self, labels, axis, level, errors)\u001b[0m\n\u001b[1;32m   3810\u001b[0m                 \u001b[0mnew_axis\u001b[0m \u001b[0;34m=\u001b[0m \u001b[0maxis\u001b[0m\u001b[0;34m.\u001b[0m\u001b[0mdrop\u001b[0m\u001b[0;34m(\u001b[0m\u001b[0mlabels\u001b[0m\u001b[0;34m,\u001b[0m \u001b[0mlevel\u001b[0m\u001b[0;34m=\u001b[0m\u001b[0mlevel\u001b[0m\u001b[0;34m,\u001b[0m \u001b[0merrors\u001b[0m\u001b[0;34m=\u001b[0m\u001b[0merrors\u001b[0m\u001b[0;34m)\u001b[0m\u001b[0;34m\u001b[0m\u001b[0;34m\u001b[0m\u001b[0m\n\u001b[1;32m   3811\u001b[0m             \u001b[0;32melse\u001b[0m\u001b[0;34m:\u001b[0m\u001b[0;34m\u001b[0m\u001b[0;34m\u001b[0m\u001b[0m\n\u001b[0;32m-> 3812\u001b[0;31m                 \u001b[0mnew_axis\u001b[0m \u001b[0;34m=\u001b[0m \u001b[0maxis\u001b[0m\u001b[0;34m.\u001b[0m\u001b[0mdrop\u001b[0m\u001b[0;34m(\u001b[0m\u001b[0mlabels\u001b[0m\u001b[0;34m,\u001b[0m \u001b[0merrors\u001b[0m\u001b[0;34m=\u001b[0m\u001b[0merrors\u001b[0m\u001b[0;34m)\u001b[0m\u001b[0;34m\u001b[0m\u001b[0;34m\u001b[0m\u001b[0m\n\u001b[0m\u001b[1;32m   3813\u001b[0m             \u001b[0mresult\u001b[0m \u001b[0;34m=\u001b[0m \u001b[0mself\u001b[0m\u001b[0;34m.\u001b[0m\u001b[0mreindex\u001b[0m\u001b[0;34m(\u001b[0m\u001b[0;34m**\u001b[0m\u001b[0;34m{\u001b[0m\u001b[0maxis_name\u001b[0m\u001b[0;34m:\u001b[0m \u001b[0mnew_axis\u001b[0m\u001b[0;34m}\u001b[0m\u001b[0;34m)\u001b[0m\u001b[0;34m\u001b[0m\u001b[0;34m\u001b[0m\u001b[0m\n\u001b[1;32m   3814\u001b[0m \u001b[0;34m\u001b[0m\u001b[0m\n",
      "\u001b[0;32m/opt/anaconda3/lib/python3.7/site-packages/pandas/core/indexes/base.py\u001b[0m in \u001b[0;36mdrop\u001b[0;34m(self, labels, errors)\u001b[0m\n\u001b[1;32m   4963\u001b[0m             \u001b[0;32mif\u001b[0m \u001b[0merrors\u001b[0m \u001b[0;34m!=\u001b[0m \u001b[0;34m'ignore'\u001b[0m\u001b[0;34m:\u001b[0m\u001b[0;34m\u001b[0m\u001b[0;34m\u001b[0m\u001b[0m\n\u001b[1;32m   4964\u001b[0m                 raise KeyError(\n\u001b[0;32m-> 4965\u001b[0;31m                     '{} not found in axis'.format(labels[mask]))\n\u001b[0m\u001b[1;32m   4966\u001b[0m             \u001b[0mindexer\u001b[0m \u001b[0;34m=\u001b[0m \u001b[0mindexer\u001b[0m\u001b[0;34m[\u001b[0m\u001b[0;34m~\u001b[0m\u001b[0mmask\u001b[0m\u001b[0;34m]\u001b[0m\u001b[0;34m\u001b[0m\u001b[0;34m\u001b[0m\u001b[0m\n\u001b[1;32m   4967\u001b[0m         \u001b[0;32mreturn\u001b[0m \u001b[0mself\u001b[0m\u001b[0;34m.\u001b[0m\u001b[0mdelete\u001b[0m\u001b[0;34m(\u001b[0m\u001b[0mindexer\u001b[0m\u001b[0;34m)\u001b[0m\u001b[0;34m\u001b[0m\u001b[0;34m\u001b[0m\u001b[0m\n",
      "\u001b[0;31mKeyError\u001b[0m: \"['datasourceobject__c' 'datasource__c'] not found in axis\""
     ]
    }
   ],
   "source": [
    "# Enrich DLO\n",
    "df = enrich(df)"
   ]
  },
  {
   "cell_type": "code",
   "execution_count": 40,
   "metadata": {},
   "outputs": [
    {
     "data": {
      "image/png": "[encoded data removed]",
      "text/plain": [
       "<Figure size 432x288 with 1 Axes>"
      ]
     },
     "metadata": {
      "needs_background": "light"
     },
     "output_type": "display_data"
    }
   ],
   "source": [
    "# Visualize enriched data\n",
    "from matplotlib import pyplot as plt\n",
    "plt.plot(df[\"state__c\"], df[\"score\"])\n",
    "plt.show()"
   ]
  },
  {
   "cell_type": "code",
   "execution_count": 41,
   "metadata": {},
   "outputs": [
    {
     "name": "stdout",
     "output_type": "stream",
     "text": [
      "***ingest_cdp_data_bulk start\n",
      "got connection\n",
      "m04tszrqg-yw09jsmmydcyrzg4.c360a.salesforce.com\n",
      "Posting to https://m04tszrqg-yw09jsmmydcyrzg4.c360a.salesforce.com/api/v1/ingest/jobs/\n",
      "Open job id 5ae297cf-e6c8-41b2-aec3-0bd51f6f1856\n",
      "Found an open job so can not start another bulk job right now!\n",
      "ingest_cdp_data_bulk exception: Found an open job so can not start another bulk job right now!\n"
     ]
    },
    {
     "ename": "Exception",
     "evalue": "Found an open job so can not start another bulk job right now!",
     "output_type": "error",
     "traceback": [
      "\u001b[0;31m---------------------------------------------------------------------------\u001b[0m",
      "\u001b[0;31mException\u001b[0m                                 Traceback (most recent call last)",
      "\u001b[0;32m<ipython-input-41-bf0834a74504>\u001b[0m in \u001b[0;36m<module>\u001b[0;34m\u001b[0m\n\u001b[1;32m      1\u001b[0m \u001b[0;31m# Bulk update Enriched DLO\u001b[0m\u001b[0;34m\u001b[0m\u001b[0;34m\u001b[0m\u001b[0;34m\u001b[0m\u001b[0m\n\u001b[0;32m----> 2\u001b[0;31m \u001b[0mingest_bulk\u001b[0m\u001b[0;34m(\u001b[0m\u001b[0mevent\u001b[0m\u001b[0;34m,\u001b[0m\u001b[0mdf\u001b[0m\u001b[0;34m)\u001b[0m\u001b[0;34m\u001b[0m\u001b[0;34m\u001b[0m\u001b[0m\n\u001b[0m",
      "\u001b[0;32m~/kam/cdp/cdpisv/cdp_ingestion_starter_pack/src/ingest_bulk.py\u001b[0m in \u001b[0;36mingest_cdp_data_bulk\u001b[0;34m(event, df)\u001b[0m\n\u001b[1;32m     81\u001b[0m     \u001b[0;32mexcept\u001b[0m \u001b[0mException\u001b[0m \u001b[0;32mas\u001b[0m \u001b[0me\u001b[0m\u001b[0;34m:\u001b[0m\u001b[0;34m\u001b[0m\u001b[0;34m\u001b[0m\u001b[0m\n\u001b[1;32m     82\u001b[0m         \u001b[0mprint\u001b[0m\u001b[0;34m(\u001b[0m\u001b[0;34m'ingest_cdp_data_bulk exception: '\u001b[0m\u001b[0;34m+\u001b[0m \u001b[0mstr\u001b[0m\u001b[0;34m(\u001b[0m\u001b[0me\u001b[0m\u001b[0;34m)\u001b[0m\u001b[0;34m)\u001b[0m\u001b[0;34m\u001b[0m\u001b[0;34m\u001b[0m\u001b[0m\n\u001b[0;32m---> 83\u001b[0;31m         \u001b[0;32mraise\u001b[0m \u001b[0me\u001b[0m\u001b[0;34m\u001b[0m\u001b[0;34m\u001b[0m\u001b[0m\n\u001b[0m\u001b[1;32m     84\u001b[0m \u001b[0;34m\u001b[0m\u001b[0m\n\u001b[1;32m     85\u001b[0m \u001b[0;34m\u001b[0m\u001b[0m\n",
      "\u001b[0;32m~/kam/cdp/cdpisv/cdp_ingestion_starter_pack/src/ingest_bulk.py\u001b[0m in \u001b[0;36mingest_cdp_data_bulk\u001b[0;34m(event, df)\u001b[0m\n\u001b[1;32m     59\u001b[0m         \u001b[0;32mif\u001b[0m\u001b[0;34m(\u001b[0m\u001b[0minflight_job\u001b[0m\u001b[0;34m)\u001b[0m\u001b[0;34m:\u001b[0m\u001b[0;34m\u001b[0m\u001b[0;34m\u001b[0m\u001b[0m\n\u001b[1;32m     60\u001b[0m             \u001b[0mprint\u001b[0m\u001b[0;34m(\u001b[0m\u001b[0;34m\"Found an open job so can not start another bulk job right now!\"\u001b[0m\u001b[0;34m)\u001b[0m\u001b[0;34m\u001b[0m\u001b[0;34m\u001b[0m\u001b[0m\n\u001b[0;32m---> 61\u001b[0;31m             \u001b[0;32mraise\u001b[0m \u001b[0mException\u001b[0m\u001b[0;34m(\u001b[0m\u001b[0;34m\"Found an open job so can not start another bulk job right now!\"\u001b[0m\u001b[0;34m)\u001b[0m\u001b[0;34m\u001b[0m\u001b[0;34m\u001b[0m\u001b[0m\n\u001b[0m\u001b[1;32m     62\u001b[0m         \u001b[0;32melse\u001b[0m\u001b[0;34m:\u001b[0m\u001b[0;34m\u001b[0m\u001b[0;34m\u001b[0m\u001b[0m\n\u001b[1;32m     63\u001b[0m             \u001b[0mjson_payload\u001b[0m \u001b[0;34m=\u001b[0m \u001b[0mQuerySubmitter\u001b[0m\u001b[0;34m.\u001b[0m\u001b[0m_post_ingest_bulk_job_start\u001b[0m\u001b[0;34m(\u001b[0m\u001b[0minstance_url\u001b[0m\u001b[0;34m,\u001b[0m \u001b[0mtoken\u001b[0m\u001b[0;34m,\u001b[0m \u001b[0mobjinfo\u001b[0m\u001b[0;34m)\u001b[0m\u001b[0;34m\u001b[0m\u001b[0;34m\u001b[0m\u001b[0m\n",
      "\u001b[0;31mException\u001b[0m: Found an open job so can not start another bulk job right now!"
     ]
    }
   ],
   "source": [
    "# Bulk update Enriched DLO\n",
    "ingest_bulk(event,df)"
   ]
  },
  {
   "cell_type": "code",
   "execution_count": null,
   "metadata": {},
   "outputs": [],
   "source": [
    "df.head()"
   ]
  },
  {
   "cell_type": "code",
   "execution_count": null,
   "metadata": {},
   "outputs": [],
   "source": []
  }
 ],
 "metadata": {
  "kernelspec": {
   "display_name": "Python 3",
   "language": "python",
   "name": "python3"
  },
  "language_info": {
   "codemirror_mode": {
    "name": "ipython",
    "version": 3
   },
   "file_extension": ".py",
   "mimetype": "text/x-python",
   "name": "python",
   "nbconvert_exporter": "python",
   "pygments_lexer": "ipython3",
   "version": "3.7.4"
  },
  "vscode": {
   "interpreter": {
    "hash": "397704579725e15f5c7cb49fe5f0341eb7531c82d19f2c29d197e8b64ab5776b"
   }
  }
 },
 "nbformat": 4,
 "nbformat_minor": 4
}
